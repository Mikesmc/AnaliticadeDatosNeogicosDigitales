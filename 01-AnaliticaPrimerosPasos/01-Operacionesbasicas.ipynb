{
 "cells": [
  {
   "cell_type": "markdown",
   "id": "25704e81",
   "metadata": {},
   "source": [
    "# Operaciones basicas en Python"
   ]
  },
  {
   "cell_type": "markdown",
   "id": "7019a8e2",
   "metadata": {},
   "source": [
    "## Declaraciones de Varibales y Asignacion de datos\n",
    "\n",
    "**Se describen los tipos de datos existentes en python y la forma de imprimirlos**"
   ]
  },
  {
   "cell_type": "code",
   "execution_count": null,
   "id": "8b031cc6",
   "metadata": {
    "vscode": {
     "languageId": "plaintext"
    }
   },
   "outputs": [],
   "source": [
    "# Declaraciones de variables y tipos\n",
    "\n",
    "a = 1 # variables de tipos entera int\n",
    "b = 2.3 # variables de como flotante\n",
    "c = true # variables de tipo bolean\n",
    "d = false # variables de tipo bolean\n",
    "e = \"Hola mundo\" # variables de tipo cadena\n",
    "f = \"Hola negocios digitales\" # variables de tipo cadena"
   ]
  }
 ],
 "metadata": {
  "language_info": {
   "name": "python"
  }
 },
 "nbformat": 4,
 "nbformat_minor": 5
}
