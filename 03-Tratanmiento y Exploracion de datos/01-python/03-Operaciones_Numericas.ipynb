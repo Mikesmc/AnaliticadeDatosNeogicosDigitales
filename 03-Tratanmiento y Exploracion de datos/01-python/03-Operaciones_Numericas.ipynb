{
 "cells": [
  {
   "cell_type": "markdown",
   "id": "b222bc3a",
   "metadata": {},
   "source": [
    "## Operaciones númericas \n",
    "\n",
    "\n",
    "### Objetivos\n",
    "\n",
    "    - Mostrar como utilizar los operadores aritmeticos\n",
    "\n",
    "### Desarrollo "
   ]
  },
  {
   "cell_type": "markdown",
   "id": "2c026068",
   "metadata": {},
   "source": [
    "Primero vamos a asignar unas variables"
   ]
  },
  {
   "cell_type": "code",
   "execution_count": 1,
   "id": "b712d63a",
   "metadata": {},
   "outputs": [],
   "source": [
    "var_1=4\n",
    "var_2=54\n",
    "var_3=23\n",
    "var_4= 89"
   ]
  },
  {
   "cell_type": "code",
   "execution_count": 7,
   "id": "a6ec7dbf",
   "metadata": {},
   "outputs": [
    {
     "name": "stdout",
     "output_type": "stream",
     "text": [
      "4 54 23 894|54|23|89\n",
      "El valor de la variabel var_1 es: 4 El valor de la variabel var_2 es: 54\n"
     ]
    }
   ],
   "source": [
    "print(var_1, var_2, var_3, var_4, end=\"\")\n",
    "print(var_1, var_2, var_3, var_4, sep='|')\n",
    "\n",
    "\n",
    "print('El valor de la variabel var_1 es:', var_1, 'El valor de la variabel var_2 es:', var_2,)"
   ]
  },
  {
   "cell_type": "markdown",
   "id": "8d6ac98b",
   "metadata": {},
   "source": [
    "### Operadores Numericos\n",
    "\n",
    "---\n",
    "\n",
    "**Operadores Aritmeticos**\n",
    "\n",
    "| Operador | Nombre                  | Descripción                                 | Ejemplo        | Resultado |\n",
    "|----------|-------------------------|---------------------------------------------|----------------|-----------|\n",
    "| `+`      | Suma                    | Suma de dos operandos                        | `5 + 3`        | `8`       |\n",
    "| `-`      | Resta                   | Resta del segundo operando al primero        | `5 - 3`        | `2`       |\n",
    "| `*`      | Multiplicación          | Producto de dos operandos                    | `5 * 3`        | `15`      |\n",
    "| `/`      | División                | División del primero entre el segundo       | `5 / 2`        | `2.5`     |\n",
    "| `//`     | División entera         | División y redondeo hacia abajo             | `5 // 2`       | `2`       |\n",
    "| `%`      | Módulo (residuo)        | Residuo de la división                      | `5 % 2`        | `1`       |\n",
    "| `**`     | Exponente               | Potencia del primer operando al segundo     | `2 ** 3`       | `8`       |"
   ]
  },
  {
   "cell_type": "code",
   "execution_count": 9,
   "id": "22ff2454",
   "metadata": {},
   "outputs": [
    {
     "data": {
      "text/plain": [
       "58"
      ]
     },
     "execution_count": 9,
     "metadata": {},
     "output_type": "execute_result"
    }
   ],
   "source": [
    "var_1+var_2"
   ]
  },
  {
   "cell_type": "code",
   "execution_count": 11,
   "id": "f05beb67",
   "metadata": {},
   "outputs": [
    {
     "data": {
      "text/plain": [
       "31"
      ]
     },
     "execution_count": 11,
     "metadata": {},
     "output_type": "execute_result"
    }
   ],
   "source": [
    "var_2-var_3"
   ]
  },
  {
   "cell_type": "code",
   "execution_count": 12,
   "id": "9569f83a",
   "metadata": {},
   "outputs": [
    {
     "data": {
      "text/plain": [
       "2047"
      ]
     },
     "execution_count": 12,
     "metadata": {},
     "output_type": "execute_result"
    }
   ],
   "source": [
    "var_3*var_4"
   ]
  },
  {
   "cell_type": "code",
   "execution_count": 13,
   "id": "99a45bbb",
   "metadata": {},
   "outputs": [
    {
     "data": {
      "text/plain": [
       "1.6481481481481481"
      ]
     },
     "execution_count": 13,
     "metadata": {},
     "output_type": "execute_result"
    }
   ],
   "source": [
    "var_4/var_2"
   ]
  },
  {
   "cell_type": "code",
   "execution_count": 14,
   "id": "01d976f8",
   "metadata": {},
   "outputs": [
    {
     "data": {
      "text/plain": [
       "1"
      ]
     },
     "execution_count": 14,
     "metadata": {},
     "output_type": "execute_result"
    }
   ],
   "source": [
    "var_4 // var_2"
   ]
  },
  {
   "cell_type": "code",
   "execution_count": 15,
   "id": "85b39f12",
   "metadata": {},
   "outputs": [
    {
     "data": {
      "text/plain": [
       "0.5"
      ]
     },
     "execution_count": 15,
     "metadata": {},
     "output_type": "execute_result"
    }
   ],
   "source": [
    "1/2"
   ]
  },
  {
   "cell_type": "code",
   "execution_count": 16,
   "id": "4d92fe38",
   "metadata": {},
   "outputs": [
    {
     "data": {
      "text/plain": [
       "0"
      ]
     },
     "execution_count": 16,
     "metadata": {},
     "output_type": "execute_result"
    }
   ],
   "source": [
    "1//2\n"
   ]
  },
  {
   "cell_type": "code",
   "execution_count": 17,
   "id": "e5271a70",
   "metadata": {},
   "outputs": [
    {
     "data": {
      "text/plain": [
       "8503056"
      ]
     },
     "execution_count": 17,
     "metadata": {},
     "output_type": "execute_result"
    }
   ],
   "source": [
    "var_2 ** var_1"
   ]
  },
  {
   "cell_type": "code",
   "execution_count": 18,
   "id": "4e064743",
   "metadata": {},
   "outputs": [
    {
     "data": {
      "text/plain": [
       "0"
      ]
     },
     "execution_count": 18,
     "metadata": {},
     "output_type": "execute_result"
    }
   ],
   "source": [
    "var_1= 10\n",
    "var_2= 2\n",
    "\n",
    "var_1 % var_2"
   ]
  },
  {
   "cell_type": "code",
   "execution_count": 19,
   "id": "e357513d",
   "metadata": {},
   "outputs": [
    {
     "name": "stdout",
     "output_type": "stream",
     "text": [
      "12\n",
      "20\n",
      "100\n"
     ]
    }
   ],
   "source": [
    "print(var_1 + var_2)\n",
    "print(var_1 * var_2)\n",
    "print(var_1**var_2)\n"
   ]
  },
  {
   "cell_type": "code",
   "execution_count": 20,
   "id": "f1d61a8c",
   "metadata": {},
   "outputs": [
    {
     "data": {
      "text/plain": [
       "33"
      ]
     },
     "execution_count": 20,
     "metadata": {},
     "output_type": "execute_result"
    }
   ],
   "source": [
    "resultado = var_1 + var_3\n",
    "resultado"
   ]
  }
 ],
 "metadata": {
  "kernelspec": {
   "display_name": ".venv",
   "language": "python",
   "name": "python3"
  },
  "language_info": {
   "codemirror_mode": {
    "name": "ipython",
    "version": 3
   },
   "file_extension": ".py",
   "mimetype": "text/x-python",
   "name": "python",
   "nbconvert_exporter": "python",
   "pygments_lexer": "ipython3",
   "version": "3.10.11"
  }
 },
 "nbformat": 4,
 "nbformat_minor": 5
}
