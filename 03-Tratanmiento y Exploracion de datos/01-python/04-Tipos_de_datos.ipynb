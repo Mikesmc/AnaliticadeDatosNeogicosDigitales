{
 "cells": [
  {
   "cell_type": "markdown",
   "id": "a8d66aa2",
   "metadata": {},
   "source": [
    "## Tipos de datos \n",
    "\n",
    "### Objetivo:\n",
    "\n",
    "    - Hablar sobre los cuatros tipos de datos basicos que tiene python\n",
    "\n",
    "---\n",
    "\n",
    "### Desarrollo:\n"
   ]
  },
  {
   "cell_type": "markdown",
   "id": "3f73e00f",
   "metadata": {},
   "source": [
    "Se tiene 4 tipos de datos basicos. Veamos en codigo y utilicemos las funciones `print` y `type` para imprimir los tipos de manera explicita"
   ]
  },
  {
   "cell_type": "code",
   "execution_count": 2,
   "metadata": {},
   "outputs": [
    {
     "name": "stdout",
     "output_type": "stream",
     "text": [
      "4598\n",
      "<class 'int'>\n",
      "\n",
      "\n",
      "369.432\n",
      "<class 'float'>\n",
      "Yo soy un string\n",
      "<class 'str'>\n",
      "\n",
      "\n",
      "True\n",
      "<class 'bool'>\n",
      "\n",
      "\n"
     ]
    }
   ],
   "source": [
    "# Este es un numero\n",
    "\n",
    "var_int = 4598\n",
    "\n",
    "print(var_int)\n",
    "print(type(var_int))\n",
    "print('\\n')\n",
    "\n",
    "# Este es un numero decimal\n",
    "\n",
    "var_float = 369.432\n",
    "print(var_float)\n",
    "print(type(var_float))\n",
    "\n",
    "# Este es un string\n",
    "var_str = 'Yo soy un string'\n",
    "print(var_str)\n",
    "print(type(var_str))\n",
    "print('\\n') \n",
    "\n",
    "# Este es un booleano\n",
    "var_bool = True\n",
    "print(var_bool)\n",
    "print(type(var_bool))\n",
    "print('\\n')\n",
    "\n",
    "\n"
   ]
  }
 ],
 "metadata": {
  "kernelspec": {
   "display_name": ".venv",
   "language": "python",
   "name": "python3"
  },
  "language_info": {
   "codemirror_mode": {
    "name": "ipython",
    "version": 3
   },
   "file_extension": ".py",
   "mimetype": "text/x-python",
   "name": "python",
   "nbconvert_exporter": "python",
   "pygments_lexer": "ipython3",
   "version": "3.10.11"
  }
 },
 "nbformat": 4,
 "nbformat_minor": 5
}
