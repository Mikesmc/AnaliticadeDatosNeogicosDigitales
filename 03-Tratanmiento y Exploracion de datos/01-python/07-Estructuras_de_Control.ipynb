{
 "cells": [
  {
   "cell_type": "markdown",
   "id": "1425b92b",
   "metadata": {},
   "source": [
    "## Estructuras de control\n",
    "\n",
    "### Objetivo:\n",
    "\n",
    "    - Conocer las estructuras de control, como funcionan y para que sirven \n",
    "\n",
    "---\n",
    "\n",
    "### Desarollo\n",
    "\n"
   ]
  },
  {
   "cell_type": "markdown",
   "id": "77d6df6d",
   "metadata": {},
   "source": [
    "Queremos darle a nuestro programa la capacidad de tomar desiciones. Esto puede hacerse utilizando una `Sentencia if` utiliza una comparacion para obtener un boolean. Si el booleano es `True`, el bloque de la sentencia se ejecuta. Si el booleano es `False` nos saltamos a lo que sigue despues del bloque"
   ]
  },
  {
   "cell_type": "code",
   "execution_count": 1,
   "id": "7aad3ff5",
   "metadata": {},
   "outputs": [],
   "source": [
    "var_1 = 4\n",
    "var_2 = 5"
   ]
  },
  {
   "cell_type": "code",
   "execution_count": 2,
   "id": "99f59f8b",
   "metadata": {},
   "outputs": [
    {
     "name": "stdout",
     "output_type": "stream",
     "text": [
      "El bloque se ha ejecutado\n"
     ]
    }
   ],
   "source": [
    "if var_1 < var_2:\n",
    "        print(\"El bloque se ha ejecutado\")"
   ]
  },
  {
   "cell_type": "code",
   "execution_count": 3,
   "id": "343a58c8",
   "metadata": {},
   "outputs": [],
   "source": [
    "var_1 = int(input(\"Introduce un número: \"))\n",
    "var_2 = int(input(\"Introduce otro número: \"))\n",
    "\n",
    "if var_1 < var_2:\n",
    "    print(f\"El número {var_1} es menor que {var_2}\")   \n"
   ]
  },
  {
   "cell_type": "code",
   "execution_count": 4,
   "id": "d48f69a4",
   "metadata": {},
   "outputs": [],
   "source": [
    "# Funcion que solicite un valor\n",
    "\n",
    "def solicitar_valor():\n",
    "    return int(input(\"Introduce un número: \"))"
   ]
  },
  {
   "cell_type": "code",
   "execution_count": 5,
   "id": "b1b2ce20",
   "metadata": {},
   "outputs": [],
   "source": [
    "# Funcion que hace la comparacion\n",
    "def comparar(valor1, valor2):\n",
    "    if valor1 < valor2:\n",
    "        print(f\"El número {valor1} es menor que {valor2}\")"
   ]
  },
  {
   "cell_type": "code",
   "execution_count": 6,
   "id": "ece3f372",
   "metadata": {},
   "outputs": [
    {
     "name": "stdout",
     "output_type": "stream",
     "text": [
      "El número 7 es menor que 9\n"
     ]
    }
   ],
   "source": [
    "# Ejecucion de las funciones\n",
    "valor1 = solicitar_valor()\n",
    "valor2 = solicitar_valor()\n",
    "comparar(valor1, valor2)"
   ]
  },
  {
   "cell_type": "code",
   "execution_count": 7,
   "id": "55d01ed3",
   "metadata": {},
   "outputs": [
    {
     "name": "stdout",
     "output_type": "stream",
     "text": [
      "El número 6 es positivo.\n"
     ]
    }
   ],
   "source": [
    "#1. **Desarrollar un programa que determine si un numero es positivo**\n",
    "var_1 = int(input(\"Introduce un número: \"))\n",
    "if var_1 > 0:\n",
    "    print(f\"El número {var_1} es positivo.\")\n"
   ]
  },
  {
   "cell_type": "code",
   "execution_count": 8,
   "id": "11cc7ad9",
   "metadata": {},
   "outputs": [
    {
     "name": "stdout",
     "output_type": "stream",
     "text": [
      "Tienes 19 años, puedes votar.\n"
     ]
    }
   ],
   "source": [
    "#2.- **Desarrollar un programa que determine si puedes votar, la edad minima es 18 años**\n",
    "var_1 = int(input(\"Introduce tu edad: \"))\n",
    "if var_1 >= 18:\n",
    "    print(f\"Tienes {var_1} años, puedes votar.\")\n",
    "\n",
    "\n"
   ]
  },
  {
   "cell_type": "code",
   "execution_count": 9,
   "id": "b57022b8",
   "metadata": {},
   "outputs": [],
   "source": [
    "#3.- **Verificar si un numero es par**\n",
    "var_1 = int(input(\"Introduce un número: \"))\n",
    "\n",
    "if var_1 % 2 == 0:\n",
    "        print(f\"El número {var_1} es par.\")\n",
    "   \n"
   ]
  },
  {
   "cell_type": "code",
   "execution_count": 10,
   "id": "10fae106",
   "metadata": {},
   "outputs": [],
   "source": [
    "#4.- **Realizar una simulacion de un login, en el cual se debe de verificar si la contraseña es correctar**\n",
    "var_1 = input(\"Introduce la contraseña: \")\n",
    "if var_1 == \"1234\":\n",
    "    print(\"Contraseña correcta, acceso permitido.\")\n",
    "        \n"
   ]
  },
  {
   "cell_type": "code",
   "execution_count": 11,
   "id": "895beb2d",
   "metadata": {},
   "outputs": [
    {
     "name": "stdout",
     "output_type": "stream",
     "text": [
      "La calificacion 9 es aprobatoria\n"
     ]
    }
   ],
   "source": [
    "#5.- **Realizar un programa que determine si el alumno ha aprobado, la nota minima es 7**\n",
    "var_1 = int(input(\"Introduce una calificacion: \"))\n",
    "if var_1 >= 7:\n",
    "    print(f\"La calificacion {var_1} es aprobatoria\")"
   ]
  },
  {
   "cell_type": "code",
   "execution_count": 12,
   "id": "3eebef6d",
   "metadata": {},
   "outputs": [
    {
     "data": {
      "text/plain": [
       "True"
      ]
     },
     "execution_count": 12,
     "metadata": {},
     "output_type": "execute_result"
    }
   ],
   "source": [
    "resultado = 4>5 or 5==5 \n",
    "resultado"
   ]
  },
  {
   "cell_type": "markdown",
   "id": "072cda71",
   "metadata": {},
   "source": [
    "## Operadores Logicos\n",
    "\n",
    "operadores lógicos \t\t\toperadores aritméticos\n",
    "   AND\t\t\t\t\t\t\t\t\t\n",
    "T\tT|T\t\t\t\t+\n",
    "T\tF|F\t\t\t\t-\n",
    "F\tT|F\t\t\t\t*\n",
    "F\tF|F\t\t\t\t/\n",
    "\t\t\t\t\t\n",
    "   OR\t\t\t\t\t\n",
    "T\tT|T\t\t\t\toperadores relacionales\n",
    "T\tF|T\t\t\t\t<\n",
    "F\tT|T\t\t\t\t>\n",
    "F\tF|F\t\t\t\t>=\n",
    "\t\t\t\t\t<=\n",
    "   NOT\t\t\t\t\t=\n",
    "T\tF|F\t\t\t\t!=\n",
    "F\tT|T\t\t\t\t<>\n",
    "\n",
    "Para consultar los Null \n",
    "\n",
    "is null o is not null"
   ]
  },
  {
   "cell_type": "code",
   "execution_count": 13,
   "id": "35d94e47",
   "metadata": {},
   "outputs": [
    {
     "data": {
      "text/plain": [
       "False"
      ]
     },
     "execution_count": 13,
     "metadata": {},
     "output_type": "execute_result"
    }
   ],
   "source": [
    "resultado = 4>5 and 5==5\n",
    "resultado "
   ]
  },
  {
   "cell_type": "code",
   "execution_count": 14,
   "id": "3e1dcbf7",
   "metadata": {},
   "outputs": [
    {
     "data": {
      "text/plain": [
       "True"
      ]
     },
     "execution_count": 14,
     "metadata": {},
     "output_type": "execute_result"
    }
   ],
   "source": [
    "resultado = not (4>5 and 5==5)\n",
    "resultado "
   ]
  },
  {
   "cell_type": "code",
   "execution_count": 15,
   "id": "c2512639",
   "metadata": {},
   "outputs": [
    {
     "data": {
      "text/plain": [
       "True"
      ]
     },
     "execution_count": 15,
     "metadata": {},
     "output_type": "execute_result"
    }
   ],
   "source": [
    "resultado = not (4>5 and 5==5)\n",
    "resultado"
   ]
  },
  {
   "cell_type": "code",
   "execution_count": 16,
   "id": "5327e498",
   "metadata": {},
   "outputs": [
    {
     "data": {
      "text/plain": [
       "False"
      ]
     },
     "execution_count": 16,
     "metadata": {},
     "output_type": "execute_result"
    }
   ],
   "source": [
    "x = 5\n",
    "y = 10\n",
    "resultado = x>= 5 and y <= x\n",
    "resultado"
   ]
  },
  {
   "cell_type": "markdown",
   "id": "75652e03",
   "metadata": {},
   "source": [
    "1.- Verificar  si un numero esta en el rango de 10 y 20\n",
    "2.- Verificar si un usuario tiene acceso al charlys si tiene minimo 18 años o tiene permiso especial\n",
    "3.- Verificar si un numero mo es igual al cero\n",
    "4.- Verificar si un valor esta fuera del rango del 0 y 30"
   ]
  },
  {
   "cell_type": "code",
   "execution_count": 17,
   "id": "1ab07ba6",
   "metadata": {},
   "outputs": [],
   "source": [
    "#1.- Verificar  si un numero esta en el rango de 10 y 20\n",
    "numero = int(input(\"Introduce un número: \"))\n",
    "if 10 <= numero <= 20:\n",
    "    print(f\"El número {numero} está en el rango de 10 a 20.\")"
   ]
  },
  {
   "cell_type": "code",
   "execution_count": 18,
   "id": "b578d73a",
   "metadata": {},
   "outputs": [
    {
     "name": "stdout",
     "output_type": "stream",
     "text": [
      "Tienes acceso al charlys.\n"
     ]
    }
   ],
   "source": [
    "#2.- Verificar si un usuario tiene acceso al charlys si tiene minimo 18 años o tiene permiso especial\n",
    "edad = int(input(\"Introduce tu edad: \"))\n",
    "permiso_especial = input(\"¿Tienes permiso especial? (si/no): \").strip().lower()\n",
    "if edad >= 18 or permiso_especial == \"si\":\n",
    "    print(\"Tienes acceso al charlys.\")"
   ]
  },
  {
   "cell_type": "code",
   "execution_count": 19,
   "id": "9c052239",
   "metadata": {},
   "outputs": [
    {
     "name": "stdout",
     "output_type": "stream",
     "text": [
      "El número 7 no es igual a cero.\n"
     ]
    }
   ],
   "source": [
    "#3.- Verificar si un numero mo es igual al cero\n",
    "numero = int(input(\"Introduce un número: \"))\n",
    "if numero != 0:\n",
    "    print(f\"El número {numero} no es igual a cero.\")\n",
    "    "
   ]
  },
  {
   "cell_type": "code",
   "execution_count": 20,
   "id": "da4e4859",
   "metadata": {},
   "outputs": [],
   "source": [
    "#4.- Verificar si un valor esta fuera del rango del 0 y 30\n",
    "valor = int(input(\"Introduce un valor: \"))\n",
    "if valor < 0 or valor > 30:\n",
    "    print(f\"El valor {valor} está fuera del rango de 0 a 30.\") \n",
    "    "
   ]
  },
  {
   "cell_type": "markdown",
   "id": "8784ddff",
   "metadata": {},
   "source": [
    "Hay veces que queremos tener una accion `defaul` , que queremos que suceda en caso de que la comparación sea `false`. Para esto podemos usar una sentencia else `else`. Piensalo como preguntarse a si mismo: \"Si meto mi mano a mi bolsa y resulta que encuentro un billete de $50, me compro unos nachos; y si no hay nada vere una pelicula con mi novia llorando de tristeza por que no  es el otro\""
   ]
  },
  {
   "cell_type": "code",
   "execution_count": 21,
   "id": "df130e53",
   "metadata": {},
   "outputs": [
    {
     "name": "stdout",
     "output_type": "stream",
     "text": [
      "La condicion no se cumple\n"
     ]
    }
   ],
   "source": [
    "var_1 = 4\n",
    "var_2 = 5\n",
    "\n",
    "\n",
    "if var_1 > var_2: \n",
    "    print(\"La condicion se cumple\")\n",
    "else:\n",
    "    print(\"La condicion no se cumple\")"
   ]
  },
  {
   "cell_type": "code",
   "execution_count": 22,
   "id": "3717d023",
   "metadata": {},
   "outputs": [
    {
     "name": "stdout",
     "output_type": "stream",
     "text": [
      "El número mayor es 8\n"
     ]
    }
   ],
   "source": [
    "# Encontrar el numero mas grande entre dos numeros\n",
    "num_1 = int(input(\"Introduce el primer número: \"))\n",
    "num_2 = int(input(\"Introduce el segundo número: \"))\n",
    "if num_1 > num_2:\n",
    "    print(f\"El número mayor es {num_1}\")\n",
    "else:\n",
    "    print(f\"El número mayor es {num_2}\")"
   ]
  },
  {
   "cell_type": "markdown",
   "id": "ec9650f5",
   "metadata": {},
   "source": [
    "Si queremos que allá mas de dos opciones podemos agregar opciones utilizando `elif`\n"
   ]
  },
  {
   "cell_type": "code",
   "execution_count": 23,
   "id": "b8a3bfc1",
   "metadata": {},
   "outputs": [
    {
     "name": "stdout",
     "output_type": "stream",
     "text": [
      "El número 14 es mayor que 12\n"
     ]
    }
   ],
   "source": [
    "var_1 = 12\n",
    "var_2 = 14\n",
    "\n",
    "if var_1 > var_2:\n",
    "    print(f\"El número {var_1} es mayor que {var_2}\")\n",
    "elif var_2 > var_1:\n",
    "    print(f\"El número {var_2} es mayor que {var_1}\")\n",
    "else:\n",
    "    print(f\"El número {var_1} es igual a {var_2}\")"
   ]
  },
  {
   "cell_type": "markdown",
   "id": "522a23ab",
   "metadata": {},
   "source": [
    "#### 1. Comparaciones numéricas\n",
    "\n",
    "Vamos a imaginar que estamos analizando un conjunto de datos que contiene las ventas anuales en pesos de unos vendedores que trabajan en nuestra empresa. Obtenemos el total de ventas anuales en pesos y lo tenemos asignado a la variable ventas_anuales_totales. Escribe una estructura de control que nos diga de cuánto va a ser el bono de nuestro empleado.\n",
    "\n",
    "Si las ventas son mayores a `$`1,000,000 el bono será de 20% del sueldo; si son entre `$`700,000 y `$`1,000,000 el bono será de 15% del sueldo; entre `$`400,000 y `$`700,000 el bono será de 10% del sueldo; entre `$`100,00 y 400,000 el bono será de 5% del sueldo; y debajo de `$`100,000 el bono será del 1% del sueldo.\n",
    "\n",
    "Escribe tu estructura de control y, por ahora (más adelante tendremos más herramientas para hacer esto más interesante) imprime una string que diga de cuánto va a ser el bono.\n",
    "\n",
    "> Reto opcional: Agrega una variable sueldo que sea el sueldo de tu empleado y agrégale el porcentaje de bono a esa variable dependiendo de la condición que se cumpla. Después hasta el final imprime una string interpolada que diga algo como \"Felicidades, tu sueldo es x; tu bono es de x; y el total de sueldo con el bono incluido es de x\". ¡Para que esto funcione también debes de agregar una variable donde guardes la cantidad del bono!"
   ]
  },
  {
   "cell_type": "code",
   "execution_count": 25,
   "id": "8a7dfe80",
   "metadata": {},
   "outputs": [
    {
     "name": "stdout",
     "output_type": "stream",
     "text": [
      "Felicidades, tu sueldo es 5000.0; tu bono es de 250.0; y el total de sueldo con el bono incluido es de 5250.0.\n"
     ]
    }
   ],
   "source": [
    "\n",
    "ventas_anuales_totales = float(input(\"Introduce las ventas anuales totales en pesos: \"))\n",
    "\n",
    "sueldo = float(input(\"Introduce el sueldo del empleado: \"))\n",
    "bono = 0\n",
    "if ventas_anuales_totales > 1000000:\n",
    "    bono = sueldo * 0.20\n",
    "elif 700000 <= ventas_anuales_totales <= 1000000:\n",
    "    bono = sueldo * 0.15\n",
    "elif 400000 <= ventas_anuales_totales < 700000:\n",
    "    bono = sueldo * 0.10\n",
    "elif 100000 <= ventas_anuales_totales < 400000:\n",
    "    bono = sueldo * 0.05\n",
    "else:\n",
    "    bono = sueldo * 0.01\n",
    "total_con_bono = sueldo + bono\n",
    "print(f\"Felicidades, tu sueldo es {sueldo}; tu bono es de {bono}; y el total de sueldo con el bono incluido es de {total_con_bono}.\")\n"
   ]
  }
 ],
 "metadata": {
  "kernelspec": {
   "display_name": ".venv",
   "language": "python",
   "name": "python3"
  },
  "language_info": {
   "codemirror_mode": {
    "name": "ipython",
    "version": 3
   },
   "file_extension": ".py",
   "mimetype": "text/x-python",
   "name": "python",
   "nbconvert_exporter": "python",
   "pygments_lexer": "ipython3",
   "version": "3.10.11"
  }
 },
 "nbformat": 4,
 "nbformat_minor": 5
}
