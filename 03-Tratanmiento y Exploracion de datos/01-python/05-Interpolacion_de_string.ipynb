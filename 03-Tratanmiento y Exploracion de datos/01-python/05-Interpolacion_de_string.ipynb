{
 "cells": [
  {
   "cell_type": "markdown",
   "id": "e99cd7d3",
   "metadata": {},
   "source": [
    "## Interpolacion \n",
    "\n",
    "### Objetivo:\n",
    "\n",
    "    - Aprender a imprimir string \n",
    "    - Aprender a inerpolar variables dentro de string\n",
    "\n",
    "---\n",
    "\n",
    "### Desarrollo:\n",
    "\n"
   ]
  },
  {
   "cell_type": "markdown",
   "id": "df59f903",
   "metadata": {},
   "source": [
    "Podemos hacer anotaciones en outputs de nuestro codigo de esta manera "
   ]
  },
  {
   "cell_type": "code",
   "execution_count": 35,
   "id": "c1357193",
   "metadata": {},
   "outputs": [
    {
     "name": "stdout",
     "output_type": "stream",
     "text": [
      "Suma de var_1 y var_2\n",
      "38.7\n"
     ]
    }
   ],
   "source": [
    "var_1=15.3\n",
    "var_2=23.4\n",
    "\n",
    "print(\"Suma de var_1 y var_2\")\n",
    "print(var_1 + var_2)"
   ]
  },
  {
   "cell_type": "markdown",
   "id": "26be569c",
   "metadata": {},
   "source": [
    "Pero a veces resulta necesario o deseable interpolar el valor ed la variable dentro de dicho string. Para esto utilizamos las llamadas `f-string`. El formato de una `f-string` es el siguiente:\n",
    "\n",
    "`f\"Esto es Texto {esto_es_una_variable} esto es mas texto\"` \n",
    "\n",
    "Escribiendo una `f` antes de las comillas le indicamos a python que lo que pongas dentro de las llaves (`{}`) sera codigo de python. En este caso una variable asignada previamente.\n",
    "\n",
    "Ahora podemos hacer lo siguiente:\n",
    "\n"
   ]
  },
  {
   "cell_type": "code",
   "execution_count": 36,
   "id": "2878045f",
   "metadata": {},
   "outputs": [
    {
     "name": "stdout",
     "output_type": "stream",
     "text": [
      "La suma de var_3 y var_4 es: 67.3\n"
     ]
    }
   ],
   "source": [
    "var_3= 43\n",
    "var_4= 24.3\n",
    "\n",
    "suma = var_3 + var_4\n",
    "print(f'La suma de var_3 y var_4 es: {suma}')"
   ]
  },
  {
   "cell_type": "code",
   "execution_count": 45,
   "id": "b481bc7e",
   "metadata": {},
   "outputs": [
    {
     "name": "stdout",
     "output_type": "stream",
     "text": [
      "El nombre del programa es: mike y la suma de los valores de: 5.0 y 10.0 es: 15.0\n"
     ]
    }
   ],
   "source": [
    "Nombre_programa = input('Introduce el nombre del programa: ')\n",
    "var_3 = float(input('Introduce el primer número: '))\n",
    "var_4 = float(input('Introduce el segundo número: '))\n",
    "\n",
    "suma = var_3 + var_4 \n",
    "\n",
    "print(f'El nombre del programa es: {Nombre_programa} y la suma de los valores de: {var_3} y {var_4} es: {suma}')\n"
   ]
  },
  {
   "cell_type": "code",
   "execution_count": 51,
   "id": "640a26ac",
   "metadata": {},
   "outputs": [],
   "source": [
    "def sumar(num1, num2):\n",
    "    return num1 + num2"
   ]
  },
  {
   "cell_type": "code",
   "execution_count": 47,
   "id": "2d09d4d7",
   "metadata": {},
   "outputs": [
    {
     "name": "stdout",
     "output_type": "stream",
     "text": [
      "20.0\n"
     ]
    }
   ],
   "source": [
    "var_3 = float(input('Introduce el primer número: '))\n",
    "var_4 = float(input('Introduce el segundo número: '))\n",
    "\n",
    "sumar= sumar(var_3, var_4)\n",
    "\n",
    "print(sumar)"
   ]
  },
  {
   "cell_type": "code",
   "execution_count": 54,
   "id": "37ab00ac",
   "metadata": {},
   "outputs": [
    {
     "name": "stdout",
     "output_type": "stream",
     "text": [
      "15.0\n"
     ]
    }
   ],
   "source": [
    "def solitarValor():\n",
    "    return float(input('Introduce un número: '))\n",
    "\n",
    "var_3 = solitarValor()\n",
    "var_4 = solitarValor() \n",
    "s = sumar(var_3, var_4)\n",
    "print(s)\n"
   ]
  }
 ],
 "metadata": {
  "kernelspec": {
   "display_name": ".venv",
   "language": "python",
   "name": "python3"
  },
  "language_info": {
   "codemirror_mode": {
    "name": "ipython",
    "version": 3
   },
   "file_extension": ".py",
   "mimetype": "text/x-python",
   "name": "python",
   "nbconvert_exporter": "python",
   "pygments_lexer": "ipython3",
   "version": "3.10.11"
  }
 },
 "nbformat": 4,
 "nbformat_minor": 5
}
