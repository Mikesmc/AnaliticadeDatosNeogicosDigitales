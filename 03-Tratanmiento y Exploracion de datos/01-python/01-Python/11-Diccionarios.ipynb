{
 "cells": [
  {
   "cell_type": "markdown",
   "id": "5179963e",
   "metadata": {},
   "source": [
    "## Crear y Accesar a los diccionasrios\n",
    "\n",
    "\n",
    "### Objetivo\n",
    "\n",
    "\n",
    "- Aprende a crear diccionarios con pares llaves- valor\n",
    "- Aprender a acceder a los valores guardados en el diccionario"
   ]
  },
  {
   "cell_type": "code",
   "execution_count": 1,
   "id": "b93574a4",
   "metadata": {},
   "outputs": [],
   "source": [
    "diccionario_1={}"
   ]
  },
  {
   "cell_type": "markdown",
   "id": "f54a37de",
   "metadata": {},
   "source": [
    "diccionario_ ya es un diccionario. Solo que esta vacio. Para incluir datos dentro de un diccionario, tenemos que agregar pares llave_valor dentro de las llaves({}). Cada par llave_valor se separa con una (,);"
   ]
  },
  {
   "cell_type": "code",
   "execution_count": 2,
   "id": "974aa843",
   "metadata": {},
   "outputs": [],
   "source": [
    "diccionario_2 = {\n",
    "    \n",
    "    \"lave_1\" : \"valor_1\",\n",
    "    \"lave_2\" : \"valor_2\",\n",
    "    \"lave_3\" : \"valor_3\",\n",
    "    \"lave_4\" : \"valor_4\",\n",
    "}"
   ]
  },
  {
   "cell_type": "markdown",
   "id": "29916d83",
   "metadata": {},
   "source": [
    "Nuestras llaves puede ser tanto `string` como `int` (Pueden ser otras cosas, pero estos son los mas comunes)"
   ]
  },
  {
   "cell_type": "code",
   "execution_count": 3,
   "id": "0f371200",
   "metadata": {},
   "outputs": [],
   "source": [
    "diccionario_3 = {\n",
    "    1:\"uno\",\n",
    "    2:\"dos\",\n",
    "    3:\"tres\",\n",
    "    4:\"cuatro\",\n",
    "}"
   ]
  },
  {
   "cell_type": "markdown",
   "id": "abcb17d0",
   "metadata": {},
   "source": [
    "Nuestris valores pueden ser cualquier tipo de dato que se conozca hasta este momento"
   ]
  },
  {
   "cell_type": "code",
   "execution_count": 4,
   "id": "eb63dc9a",
   "metadata": {},
   "outputs": [],
   "source": [
    "diccionario_4 = {\n",
    "    'int': 123,\n",
    "    'float': 23.56,\n",
    "    'string': 'Hola',\n",
    "    'boolean': True,\n",
    "    'lista' : [1,2,3,4],\n",
    "    'diccionario' : {\n",
    "        1: 'uno',\n",
    "        2: 'dos'\n",
    "    }\n",
    "}"
   ]
  },
  {
   "cell_type": "markdown",
   "id": "0ab4cc74",
   "metadata": {},
   "source": [
    "Accerdes a un diccionario es tan facil como escribir el nombre del diccionario, agregar corchetes (`[]`) y pasarle el nombre de la llave ( o clave) que quieres accerder. Por obvias razones, un diccionario no puede tener mas de una llave con el mismo nombre, Si tenemos otras estructuras de datos dentro de nuestros diccionarios podemos accedes a los elementos dentro de ellas despues dde haber accedido primero apoda la estructura de datos:"
   ]
  },
  {
   "cell_type": "code",
   "execution_count": 5,
   "id": "1fa58522",
   "metadata": {},
   "outputs": [
    {
     "name": "stdout",
     "output_type": "stream",
     "text": [
      "23.56\n"
     ]
    }
   ],
   "source": [
    "print(diccionario_4['float'])"
   ]
  },
  {
   "cell_type": "code",
   "execution_count": 13,
   "id": "faa29d42",
   "metadata": {},
   "outputs": [
    {
     "name": "stdout",
     "output_type": "stream",
     "text": [
      "3\n",
      "[1, 2, 3, 4]\n",
      "True\n",
      "23.56\n"
     ]
    }
   ],
   "source": [
    "#imprime true y el 3 de la lista, del diccionario 4\n",
    "print(diccionario_4['lista'][2])\n",
    "print(diccionario_4['lista'])\n",
    "print(diccionario_4['boolean'])\n",
    "print(diccionario_4['float'])\n"
   ]
  }
 ],
 "metadata": {
  "kernelspec": {
   "display_name": "Python 3",
   "language": "python",
   "name": "python3"
  },
  "language_info": {
   "codemirror_mode": {
    "name": "ipython",
    "version": 3
   },
   "file_extension": ".py",
   "mimetype": "text/x-python",
   "name": "python",
   "nbconvert_exporter": "python",
   "pygments_lexer": "ipython3",
   "version": "3.10.11"
  }
 },
 "nbformat": 4,
 "nbformat_minor": 5
}
