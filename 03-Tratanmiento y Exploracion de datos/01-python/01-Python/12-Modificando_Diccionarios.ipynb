{
 "cells": [
  {
   "cell_type": "markdown",
   "id": "ef1e624d",
   "metadata": {},
   "source": [
    "># Modificando diccionarios "
   ]
  },
  {
   "cell_type": "markdown",
   "id": "7c2e8b43",
   "metadata": {},
   "source": [
    "## 1.- Objetivo \n",
    "\n",
    "-Practicar los tres metodos basicos de modificacion de diccionarios: **Agregar datos, modificar datos y borrar llaves**"
   ]
  },
  {
   "cell_type": "markdown",
   "id": "46e8b509",
   "metadata": {},
   "source": [
    "## 2. Desarrollo \n",
    "\n",
    "Tenemos 3 maneras basicas de modificar los diccionarios\n",
    "\n",
    "\n",
    "---"
   ]
  },
  {
   "cell_type": "markdown",
   "id": "a35e3d47",
   "metadata": {},
   "source": [
    "### Agregar datos al diccionario\n",
    "\n",
    "Para agregar datos a un diccionario ya existente basta con llamar la llave que queremos agregar y asignar un valor "
   ]
  },
  {
   "cell_type": "code",
   "execution_count": 12,
   "id": "374e6709",
   "metadata": {},
   "outputs": [],
   "source": [
    "from pprint import pprint"
   ]
  },
  {
   "cell_type": "code",
   "execution_count": 5,
   "id": "0ea1c282",
   "metadata": {},
   "outputs": [
    {
     "name": "stdout",
     "output_type": "stream",
     "text": [
      "{'nombre': 'Maluma', 'Telefono': '555-1234', 'dir': {'colonia': 'El 61', 'Calle': 'Pirineos', 'num': 69, 'cp': 42830}}\n"
     ]
    }
   ],
   "source": [
    "info_de_contato = {\n",
    "    'nombre': 'Maluma',\n",
    "    'Telefono': '555-1234',\n",
    "    'dir':{\n",
    "        'colonia': 'El 61',\n",
    "        'Calle': 'Pirineos',\n",
    "        'num': 69,\n",
    "        'cp': 42830\n",
    "    }\n",
    "}\n",
    "print(info_de_contato)"
   ]
  },
  {
   "cell_type": "code",
   "execution_count": 6,
   "id": "f29fb3b7",
   "metadata": {},
   "outputs": [
    {
     "name": "stdout",
     "output_type": "stream",
     "text": [
      "{'Telefono': '555-1234',\n",
      " 'dir': {'Calle': 'Pirineos', 'colonia': 'El 61', 'cp': 42830, 'num': 69},\n",
      " 'nombre': 'Maluma'}\n"
     ]
    }
   ],
   "source": [
    "pprint(info_de_contato)"
   ]
  },
  {
   "cell_type": "code",
   "execution_count": 7,
   "id": "08449801",
   "metadata": {},
   "outputs": [],
   "source": [
    "info_de_contato ['Maluma'] = 'Maluma_hasta_abajo_abajo@regechafa.com'"
   ]
  },
  {
   "cell_type": "markdown",
   "id": "098631ff",
   "metadata": {},
   "source": [
    "## Modificar pares llaves-valor existentes\n",
    "\n",
    "Para modificar un par llaves-valor ya existente, basta con reasignar a una llave de nuestro diccionario el nuevo valor que queremos agregar. Por ejemplo imaginemos que esta persona cambio de direccion  "
   ]
  },
  {
   "cell_type": "code",
   "execution_count": 8,
   "id": "83a69398",
   "metadata": {},
   "outputs": [
    {
     "name": "stdout",
     "output_type": "stream",
     "text": [
      "{'Maluma': 'Maluma_hasta_abajo_abajo@regechafa.com',\n",
      " 'Telefono': '555-1234',\n",
      " 'dir': {'calle': 'Progreso', 'colonia': 'Escandalo', 'cp': 11800, 'num': 189},\n",
      " 'nombre': 'Maluma'}\n"
     ]
    }
   ],
   "source": [
    "info_de_contato[\"dir\"] = {\n",
    "    'colonia': 'Escandalo',\n",
    "    'calle': 'Progreso',\n",
    "    'num': 189,\n",
    "    'cp': 11800\n",
    "}\n",
    "\n",
    "pprint(info_de_contato)"
   ]
  },
  {
   "cell_type": "code",
   "execution_count": 9,
   "id": "e9c4b447",
   "metadata": {},
   "outputs": [],
   "source": [
    "info_de_contato['dir']['colonia'] = 'SalteSiPuedes'"
   ]
  },
  {
   "cell_type": "code",
   "execution_count": 10,
   "id": "dfd6c35e",
   "metadata": {},
   "outputs": [
    {
     "name": "stdout",
     "output_type": "stream",
     "text": [
      "{'nombre': 'Maluma', 'Telefono': '555-1234', 'dir': {'colonia': 'SalteSiPuedes', 'calle': 'Progreso', 'num': 189, 'cp': 11800}, 'Maluma': 'Maluma_hasta_abajo_abajo@regechafa.com'}\n"
     ]
    }
   ],
   "source": [
    "print(info_de_contato)"
   ]
  },
  {
   "cell_type": "markdown",
   "id": "b7b95464",
   "metadata": {},
   "source": [
    "Podemos incluso modificar estructaras de datos dentro de nuestro diccionario por ejemplo: Que tal si hubo un error al agregar la nueva direccion y ahora tenemos que cambiar solamente el numero"
   ]
  },
  {
   "cell_type": "code",
   "execution_count": 11,
   "id": "490c4410",
   "metadata": {},
   "outputs": [
    {
     "name": "stdout",
     "output_type": "stream",
     "text": [
      "{'Maluma': 'Maluma_hasta_abajo_abajo@regechafa.com',\n",
      " 'Telefono': '555-1234',\n",
      " 'dir': {'calle': 'Progreso',\n",
      "         'colonia': 'SalteSiPuedes',\n",
      "         'cp': 11800,\n",
      "         'num': 666},\n",
      " 'nombre': 'Maluma'}\n"
     ]
    }
   ],
   "source": [
    "info_de_contato['dir']['num'] = 666\n",
    "\n",
    "pprint(info_de_contato)"
   ]
  },
  {
   "cell_type": "markdown",
   "id": "b3af209c",
   "metadata": {},
   "source": [
    "## Eliminando datos del diccionario\n",
    "\n",
    "Para eliminar datos, se puede usar el metodo ``pop``. Como se recordara el nombre de este metodo es identico al metodo para eliminar elementos de una lista. La diferencia es que el metodo ``pop`` de las listas resive indices como argumento, el metodo `pop` de diccionario recibe llaves como argumentos"
   ]
  },
  {
   "cell_type": "code",
   "execution_count": 13,
   "id": "4f69afcb",
   "metadata": {},
   "outputs": [
    {
     "name": "stdout",
     "output_type": "stream",
     "text": [
      "{'Maluma': 'Maluma_hasta_abajo_abajo@regechafa.com',\n",
      " 'dir': {'calle': 'Progreso',\n",
      "         'colonia': 'SalteSiPuedes',\n",
      "         'cp': 11800,\n",
      "         'num': 666},\n",
      " 'nombre': 'Maluma'}\n"
     ]
    }
   ],
   "source": [
    "info_de_contato.pop('Telefono')\n",
    "pprint(info_de_contato)\n"
   ]
  }
 ],
 "metadata": {
  "kernelspec": {
   "display_name": "Python 3",
   "language": "python",
   "name": "python3"
  },
  "language_info": {
   "codemirror_mode": {
    "name": "ipython",
    "version": 3
   },
   "file_extension": ".py",
   "mimetype": "text/x-python",
   "name": "python",
   "nbconvert_exporter": "python",
   "pygments_lexer": "ipython3",
   "version": "3.10.11"
  }
 },
 "nbformat": 4,
 "nbformat_minor": 5
}
