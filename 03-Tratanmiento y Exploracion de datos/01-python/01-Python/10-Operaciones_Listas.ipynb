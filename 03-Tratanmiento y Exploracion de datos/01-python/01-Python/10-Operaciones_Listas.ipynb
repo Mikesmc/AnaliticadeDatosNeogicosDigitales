{
 "cells": [
  {
   "cell_type": "markdown",
   "id": "39940b43",
   "metadata": {},
   "source": [
    "## Operaciones con listas\n",
    "\n",
    "### Copiar una lista a otra"
   ]
  },
  {
   "cell_type": "code",
   "execution_count": 4,
   "id": "e128e181",
   "metadata": {},
   "outputs": [
    {
     "name": "stdout",
     "output_type": "stream",
     "text": [
      "Lista 1: [1] \n",
      "Lista 2: [1]\n"
     ]
    }
   ],
   "source": [
    "#Forma incorrecta de copiar una lista\n",
    "lista_1 = [1]\n",
    "lista_2 = lista_1\n",
    "\n",
    "print(f\"Lista 1: {lista_1} \\nLista 2: {lista_2}\")"
   ]
  },
  {
   "cell_type": "code",
   "execution_count": 5,
   "id": "77a6f72c",
   "metadata": {},
   "outputs": [],
   "source": [
    "lista_2.append(10)"
   ]
  },
  {
   "cell_type": "code",
   "execution_count": 6,
   "id": "649ea5cd",
   "metadata": {},
   "outputs": [
    {
     "name": "stdout",
     "output_type": "stream",
     "text": [
      "[1, 10]\n"
     ]
    }
   ],
   "source": [
    "print(lista_2)"
   ]
  },
  {
   "cell_type": "markdown",
   "id": "62161de6",
   "metadata": {},
   "source": [
    "## Slicing o rebanadas"
   ]
  },
  {
   "cell_type": "code",
   "execution_count": 7,
   "id": "ac1a86b3",
   "metadata": {},
   "outputs": [
    {
     "data": {
      "text/plain": [
       "[3, 4, 5, 6, 7, 8]"
      ]
     },
     "execution_count": 7,
     "metadata": {},
     "output_type": "execute_result"
    }
   ],
   "source": [
    "list_1= [3,4,5,6,7,8]\n",
    "list_1[:]"
   ]
  },
  {
   "cell_type": "code",
   "execution_count": 8,
   "id": "a0eb79b4",
   "metadata": {},
   "outputs": [
    {
     "data": {
      "text/plain": [
       "[3, 4, 5, 6, 7, 8, 11]"
      ]
     },
     "execution_count": 8,
     "metadata": {},
     "output_type": "execute_result"
    }
   ],
   "source": [
    "# Forma correcta de copiar una lista\n",
    "\n",
    "list_2 = list_1[:]\n",
    "list_2.append(11)\n",
    "list_2"
   ]
  },
  {
   "cell_type": "code",
   "execution_count": 9,
   "id": "ee40af8e",
   "metadata": {},
   "outputs": [
    {
     "data": {
      "text/plain": [
       "[3, 4, 5, 6, 7, 8]"
      ]
     },
     "execution_count": 9,
     "metadata": {},
     "output_type": "execute_result"
    }
   ],
   "source": [
    "list_1"
   ]
  },
  {
   "cell_type": "code",
   "execution_count": 10,
   "id": "02566359",
   "metadata": {},
   "outputs": [
    {
     "name": "stdout",
     "output_type": "stream",
     "text": [
      "[1, 2, 3, 4, 5]\n"
     ]
    }
   ],
   "source": [
    "x = [1, 2, 3, 4, 5]\n",
    "y=[]\n",
    "\n",
    "y= x.copy()\n",
    "\n",
    "print(y)"
   ]
  },
  {
   "cell_type": "markdown",
   "id": "7389da85",
   "metadata": {},
   "source": [
    "### Slicing o rebanadas - indices negativos\n",
    "\n",
    "Observa el fragmento de codigo a continuacion\n",
    "\n",
    "``my_list[start:end]``\n",
    "\n",
    "para conformar:\n",
    "\n",
    "1. **Star** es el indice del primer elemento incluido en la rebanada\n",
    "2. **End** es el indice del primer elemento no incluido en la rebanada"
   ]
  },
  {
   "cell_type": "code",
   "execution_count": 11,
   "id": "7b3b8298",
   "metadata": {},
   "outputs": [
    {
     "name": "stdout",
     "output_type": "stream",
     "text": [
      "La lista original es: [10, 8, 6, 4, 2]\n",
      " la nueva lista es: [10, 8, 6]\n"
     ]
    }
   ],
   "source": [
    "my_list = [10, 8, 6, 4, 2]\n",
    "my_list2= my_list[0:3]\n",
    "print(f\"La lista original es: {my_list}\\n la nueva lista es: {my_list2}\")"
   ]
  },
  {
   "cell_type": "code",
   "execution_count": 12,
   "id": "840c60c4",
   "metadata": {},
   "outputs": [
    {
     "data": {
      "text/plain": [
       "[6, 4]"
      ]
     },
     "execution_count": 12,
     "metadata": {},
     "output_type": "execute_result"
    }
   ],
   "source": [
    "my_list[2:-1]"
   ]
  },
  {
   "cell_type": "code",
   "execution_count": 13,
   "id": "2d29857f",
   "metadata": {},
   "outputs": [
    {
     "data": {
      "text/plain": [
       "[8, 6, 4, 2]"
      ]
     },
     "execution_count": 13,
     "metadata": {},
     "output_type": "execute_result"
    }
   ],
   "source": [
    "my_list[1:]"
   ]
  },
  {
   "cell_type": "code",
   "execution_count": 14,
   "id": "accd604b",
   "metadata": {},
   "outputs": [
    {
     "data": {
      "text/plain": [
       "[]"
      ]
     },
     "execution_count": 14,
     "metadata": {},
     "output_type": "execute_result"
    }
   ],
   "source": [
    "my_list[4:-1]"
   ]
  },
  {
   "cell_type": "code",
   "execution_count": 15,
   "id": "51ba49cf",
   "metadata": {},
   "outputs": [
    {
     "name": "stdout",
     "output_type": "stream",
     "text": [
      "La lista original es: [10, 8, 6, 4, 2]\n",
      " la nueva lista es: [10, 4, 2]\n"
     ]
    }
   ],
   "source": [
    "# Dada la lista [10,8,6,4,2], eliminar los numeros 8 y 6\n",
    "\n",
    "my_list = [10, 8, 6, 4, 2]\n",
    "my_list2 = my_list[0:1] + my_list[3:]\n",
    "print(f\"La lista original es: {my_list}\\n la nueva lista es: {my_list2}\")"
   ]
  },
  {
   "cell_type": "markdown",
   "id": "70b7316d",
   "metadata": {},
   "source": [
    "### `` Pop`` remueve el ultimo elemento de la lista si se llama sin argumentos"
   ]
  },
  {
   "cell_type": "code",
   "execution_count": 16,
   "id": "f31d5fee",
   "metadata": {},
   "outputs": [
    {
     "data": {
      "text/plain": [
       "2"
      ]
     },
     "execution_count": 16,
     "metadata": {},
     "output_type": "execute_result"
    }
   ],
   "source": [
    "my_list.pop()\n"
   ]
  },
  {
   "cell_type": "code",
   "execution_count": 17,
   "id": "048c45d0",
   "metadata": {},
   "outputs": [],
   "source": [
    "my_list.append(7)\n",
    "my_list.append(5)\n",
    "my_list.append(9)\n",
    "my_list.append(11)\n",
    "my_list.append(5)\n"
   ]
  },
  {
   "cell_type": "code",
   "execution_count": 18,
   "id": "71b5dc98",
   "metadata": {},
   "outputs": [
    {
     "data": {
      "text/plain": [
       "[10, 8, 6, 4, 7, 5, 9, 11, 5]"
      ]
     },
     "execution_count": 18,
     "metadata": {},
     "output_type": "execute_result"
    }
   ],
   "source": [
    "my_list"
   ]
  },
  {
   "cell_type": "code",
   "execution_count": 19,
   "id": "d8af95a4",
   "metadata": {},
   "outputs": [
    {
     "data": {
      "text/plain": [
       "[10, 6, 4, 7, 5, 9, 11, 5]"
      ]
     },
     "execution_count": 19,
     "metadata": {},
     "output_type": "execute_result"
    }
   ],
   "source": [
    "my_list.pop(1)\n",
    "my_list"
   ]
  },
  {
   "cell_type": "code",
   "execution_count": 20,
   "id": "7375892c",
   "metadata": {},
   "outputs": [
    {
     "name": "stdout",
     "output_type": "stream",
     "text": [
      "['a', 12, True]\n",
      "<class 'list'>\n"
     ]
    }
   ],
   "source": [
    "list_example=[\"a\", 12, True]\n",
    "print(list_example)\n",
    "print(type(list_example))"
   ]
  },
  {
   "cell_type": "code",
   "execution_count": 21,
   "id": "02abf488",
   "metadata": {},
   "outputs": [
    {
     "name": "stdout",
     "output_type": "stream",
     "text": [
      "[['hallway', 100], ['kitchen', 85]]\n",
      "<class 'list'>\n"
     ]
    }
   ],
   "source": [
    "# Listas de listas\n",
    "\n",
    "list_house =[[\"hallway\", 100], [\"kitchen\", 85]]\n",
    "print(list_house)\n",
    "print(type(list_house))"
   ]
  },
  {
   "cell_type": "code",
   "execution_count": 22,
   "id": "3ead6ec1",
   "metadata": {},
   "outputs": [
    {
     "data": {
      "text/plain": [
       "100"
      ]
     },
     "execution_count": 22,
     "metadata": {},
     "output_type": "execute_result"
    }
   ],
   "source": [
    "# Tiene acceso ala lista en la posicion 0 y su elemento en la posicion 1\n",
    "\n",
    "list_house[0][1]"
   ]
  },
  {
   "cell_type": "code",
   "execution_count": 23,
   "id": "268edc8a",
   "metadata": {},
   "outputs": [
    {
     "name": "stdout",
     "output_type": "stream",
     "text": [
      "['heydy', 22, 'ines', 54, 'henry', 33, 'oscar', 38]\n"
     ]
    }
   ],
   "source": [
    "list_family = [\"heydy\", 22, \"ines\", 54, \"henry\", 33, \"oscar\", 38]\n",
    "print(list_family)"
   ]
  },
  {
   "cell_type": "code",
   "execution_count": 24,
   "id": "20533f1d",
   "metadata": {},
   "outputs": [
    {
     "name": "stdout",
     "output_type": "stream",
     "text": [
      "ines\n",
      "ines\n"
     ]
    }
   ],
   "source": [
    "#indexcion\n",
    "\n",
    "print(list_family[2])\n",
    "\n",
    "print(list_family[-6])"
   ]
  },
  {
   "cell_type": "code",
   "execution_count": 25,
   "id": "da8bdf99",
   "metadata": {},
   "outputs": [
    {
     "name": "stdout",
     "output_type": "stream",
     "text": [
      "[54, 'henry']\n",
      "['heydy', 22, 'ines', 54, 'henry']\n",
      "[33, 'oscar', 38]\n"
     ]
    }
   ],
   "source": [
    "# Slicing [Start: end]\n",
    "        #inclusive: exclusivo\n",
    "print(list_family[3:5]) # No toma el ultimo digito\n",
    "\n",
    "print(list_family[:5]) # Desde el inicio hasta la posicion 4\n",
    "\n",
    "print(list_family[5:]) # Desde la posicion 5 hasta el final"
   ]
  },
  {
   "cell_type": "markdown",
   "id": "73a9840b",
   "metadata": {},
   "source": [
    "### **Manipulando listas**"
   ]
  },
  {
   "cell_type": "code",
   "execution_count": 26,
   "id": "ce723e30",
   "metadata": {},
   "outputs": [
    {
     "name": "stdout",
     "output_type": "stream",
     "text": [
      "['heydy', 22, 'ines', 54, 'henry', 33, 'oscar', 38]\n"
     ]
    }
   ],
   "source": [
    "print(list_family)"
   ]
  },
  {
   "cell_type": "code",
   "execution_count": 27,
   "id": "d2b18796",
   "metadata": {},
   "outputs": [
    {
     "name": "stdout",
     "output_type": "stream",
     "text": [
      "['heydy', 22, 'ines', 54, 'henry', 33, 'oscar', 37]\n",
      "['Mayumy', 24, 'ines', 54, 'henry', 33, 'oscar', 37]\n"
     ]
    }
   ],
   "source": [
    "list_family[-1] = 37\n",
    "print(list_family)\n",
    "\n",
    "list_family[:2] = [\"Mayumy\", 24]\n",
    "print(list_family)"
   ]
  },
  {
   "cell_type": "code",
   "execution_count": 28,
   "id": "dc522809",
   "metadata": {},
   "outputs": [
    {
     "name": "stdout",
     "output_type": "stream",
     "text": [
      "['Mayumy', 24, 'ines', 54, 'henry', 33, 'oscar', 37, 'Achuchena', 12]\n",
      "['Mayumy', 24, 'ines', 'henry', 33, 'oscar', 37, 'Achuchena', 12]\n"
     ]
    }
   ],
   "source": [
    "#Agregar y remover elementos de la lista\n",
    "\n",
    "#agregar\n",
    "fam_ext = list_family + [\"Achuchena\", 12]\n",
    "print(fam_ext)\n",
    "\n",
    "#eliminar\n",
    "del(fam_ext[3])\n",
    "#fam_ext.pop(3)\n",
    "#fam_ext.remove(54)\n",
    "\n",
    "print(fam_ext)\n"
   ]
  },
  {
   "cell_type": "code",
   "execution_count": 29,
   "id": "c6791b9b",
   "metadata": {},
   "outputs": [
    {
     "name": "stdout",
     "output_type": "stream",
     "text": [
      "['hallway', 11.5, 'kitchen', 18.0, 'chill zone', 20.0, 'bedroom', 10.75, 'bathroom', 10.5, 'poolhouse', 24.5, 'garage', 15.45]\n",
      "['poolhouse', 24.5]\n",
      "['hallway', 11.5, 'kitchen', 18.0, 'chill zone', 20.0, 'bedroom', 10.75, 'bathroom', 10.5, 'garage', 15.45]\n"
     ]
    }
   ],
   "source": [
    "#Ejercicio eliminar el 'poolhouse' y 24.5\n",
    "\n",
    "areas = [\"hallway\", 11.5, \"kitchen\", 18.0, \"chill zone\", 20.0, \"bedroom\", 10.75,\n",
    "         \"bathroom\", 10.50, \"poolhouse\", 24.5, \"garage\", 15.45]\n",
    "\n",
    "print(areas)\n",
    "print(areas[-4:-2])\n",
    "del(areas[-4:-2])\n",
    "print(areas)"
   ]
  },
  {
   "cell_type": "markdown",
   "id": "6012c502",
   "metadata": {},
   "source": [
    "# Funciones y Paquetes"
   ]
  },
  {
   "cell_type": "markdown",
   "id": "0910dcca",
   "metadata": {},
   "source": [
    "## **Funcion**\n",
    "\n",
    "Es una pieza de codigo reutilizable, destinada a resolver una tarea en particular \n"
   ]
  },
  {
   "cell_type": "code",
   "execution_count": 30,
   "id": "d7ac94e8",
   "metadata": {},
   "outputs": [
    {
     "name": "stdout",
     "output_type": "stream",
     "text": [
      "[22, 54, 33, 38, 36]\n",
      "El tamaño de la lista es 5\n",
      "El valor maximo de la lista es 54\n"
     ]
    }
   ],
   "source": [
    "lis_fam = [22, 54, 33, 38, 36]\n",
    "print(lis_fam)\n",
    "print(f\"El tamaño de la lista es {len(lis_fam)}\")\n",
    "print(f\"El valor maximo de la lista es {max(lis_fam)}\")\n",
    "\n"
   ]
  },
  {
   "cell_type": "code",
   "execution_count": 32,
   "id": "c3c87c20",
   "metadata": {},
   "outputs": [
    {
     "data": {
      "text/plain": [
       "1.69"
      ]
     },
     "execution_count": 32,
     "metadata": {},
     "output_type": "execute_result"
    }
   ],
   "source": [
    "round(1.6892, 2) # Redondea a dos decimales"
   ]
  },
  {
   "cell_type": "code",
   "execution_count": 33,
   "id": "952f2398",
   "metadata": {},
   "outputs": [
    {
     "name": "stdout",
     "output_type": "stream",
     "text": [
      "Help on built-in function round in module builtins:\n",
      "\n",
      "round(number, ndigits=None)\n",
      "    Round a number to a given precision in decimal digits.\n",
      "    \n",
      "    The return value is an integer if ndigits is omitted or None.  Otherwise\n",
      "    the return value has the same type as the number.  ndigits may be negative.\n",
      "\n"
     ]
    }
   ],
   "source": [
    "help(round)"
   ]
  },
  {
   "cell_type": "code",
   "execution_count": 34,
   "id": "855a6652",
   "metadata": {},
   "outputs": [
    {
     "name": "stdout",
     "output_type": "stream",
     "text": [
      "Help on built-in function max in module builtins:\n",
      "\n",
      "max(...)\n",
      "    max(iterable, *[, default=obj, key=func]) -> value\n",
      "    max(arg1, arg2, *args, *[, key=func]) -> value\n",
      "    \n",
      "    With a single iterable argument, return its biggest item. The\n",
      "    default keyword-only argument specifies an object to return if\n",
      "    the provided iterable is empty.\n",
      "    With two or more arguments, return the largest argument.\n",
      "\n"
     ]
    }
   ],
   "source": [
    "help(max)"
   ]
  },
  {
   "cell_type": "code",
   "execution_count": 35,
   "id": "793433d6",
   "metadata": {},
   "outputs": [
    {
     "name": "stdout",
     "output_type": "stream",
     "text": [
      "[18.0, 20.0, 51.25]\n",
      "[51.25, 20.0, 18.0]\n",
      "[18.0, 20.0, 51.25]\n"
     ]
    }
   ],
   "source": [
    "first = [51.25,18.0, 20.0]\n",
    "full_sorted = sorted(first) # Ordena de menor a mayor\n",
    "full_sorted_asc = sorted(first, reverse=True) # Ordena de mayor a menor\n",
    "full_sorted_desc = sorted(first, reverse=False) # Ordena de menor a mayor\n",
    "\n",
    "print(full_sorted)\n",
    "print(full_sorted_asc)\n",
    "print(full_sorted_desc)"
   ]
  },
  {
   "cell_type": "markdown",
   "id": "2ebedbf0",
   "metadata": {},
   "source": [
    "### **Metodos**\n",
    "\n",
    "En python todo es objeto. Y cada objeto tiene metodos especificos asociados\n",
    "\n",
    "    - Objetos con diferentes tipos pueden tener metodos con el mismo nombre\n"
   ]
  },
  {
   "cell_type": "code",
   "execution_count": 44,
   "id": "63db2351",
   "metadata": {},
   "outputs": [
    {
     "name": "stdout",
     "output_type": "stream",
     "text": [
      "indice: 4\n",
      "Contar: 1\n"
     ]
    }
   ],
   "source": [
    "lis_fam = [\"heydy\", 22, \"ines\", 54, \"henry\", 33, \"oscar\", 38]\n",
    "\n",
    "\n",
    "print(f\"indice: {lis_fam.index('henry')}\") # Obtine el indice de la lista\n",
    "print(f\"Contar: {lis_fam.count(54)}\") # Cuenta el numero de veces que se repite un elemento"
   ]
  },
  {
   "cell_type": "code",
   "execution_count": 45,
   "id": "f25cf26f",
   "metadata": {},
   "outputs": [
    {
     "name": "stdout",
     "output_type": "stream",
     "text": [
      "['heydy', 22, 'ines', 54, 33, 'oscar', 38]\n"
     ]
    }
   ],
   "source": [
    "del(lis_fam[lis_fam.index(\"henry\")])\n",
    "print(lis_fam)"
   ]
  },
  {
   "cell_type": "code",
   "execution_count": 53,
   "id": "52e40b38",
   "metadata": {},
   "outputs": [
    {
     "name": "stdout",
     "output_type": "stream",
     "text": [
      "Susel\n"
     ]
    }
   ],
   "source": [
    "name=\"susel\"\n",
    "print(name.capitalize()) # Capitaliza la primera letra"
   ]
  },
  {
   "cell_type": "code",
   "execution_count": 54,
   "id": "447b17ca",
   "metadata": {},
   "outputs": [
    {
     "name": "stdout",
     "output_type": "stream",
     "text": [
      "Susel\n"
     ]
    }
   ],
   "source": [
    "lista_entornos = [\"susel\",\"brandon\", \"alejandro\",\"gabriel\"]\n",
    "lista_entornos= lista_entornos[0].capitalize()\n",
    "print(lista_entornos)"
   ]
  },
  {
   "cell_type": "code",
   "execution_count": 57,
   "id": "52cde65c",
   "metadata": {},
   "outputs": [
    {
     "name": "stdout",
     "output_type": "stream",
     "text": [
      "*u*el\n"
     ]
    }
   ],
   "source": [
    "print(name.replace(\"s\", \"*\"))"
   ]
  },
  {
   "cell_type": "code",
   "execution_count": 56,
   "id": "dda885f5",
   "metadata": {},
   "outputs": [
    {
     "data": {
      "text/plain": [
       "'SUSEL'"
      ]
     },
     "execution_count": 56,
     "metadata": {},
     "output_type": "execute_result"
    }
   ],
   "source": [
    "name.upper() # Convierte a mayusculas"
   ]
  },
  {
   "cell_type": "code",
   "execution_count": 61,
   "id": "8e11a604",
   "metadata": {},
   "outputs": [
    {
     "name": "stdout",
     "output_type": "stream",
     "text": [
      "['heydy', 22, 'ines', 54, 33, 'oscar', 38]\n",
      "[38, 'oscar', 33, 54, 'ines', 22, 'heydy']\n"
     ]
    }
   ],
   "source": [
    "print(lis_fam)\n",
    "lis_fam.reverse()\n",
    "print(lis_fam)\n"
   ]
  }
 ],
 "metadata": {
  "kernelspec": {
   "display_name": "Python 3",
   "language": "python",
   "name": "python3"
  },
  "language_info": {
   "codemirror_mode": {
    "name": "ipython",
    "version": 3
   },
   "file_extension": ".py",
   "mimetype": "text/x-python",
   "name": "python",
   "nbconvert_exporter": "python",
   "pygments_lexer": "ipython3",
   "version": "3.10.11"
  }
 },
 "nbformat": 4,
 "nbformat_minor": 5
}
