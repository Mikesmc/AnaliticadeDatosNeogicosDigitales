{
 "cells": [
  {
   "cell_type": "markdown",
   "id": "58235010",
   "metadata": {},
   "source": [
    "# Ejemplo 1 este es un ejercicio de practica \n",
    "\n",
    "---\n",
    "\n",
    "###1.- Objetivo\n",
    "\n",
    "    -Repasar rapidamente como funciona un jupyter notebook \n",
    "\n",
    "###2.- Requisitos\n",
    "\n",
    "    -Jupyter notebook instalado"
   ]
  },
  {
   "cell_type": "markdown",
   "id": "04c87f92",
   "metadata": {},
   "source": [
    "En JN tenemos `Modo Comando` y ``Modo edicion`\n",
    "\n",
    "- El `Modo edicion` sirve para editar celdas\n",
    "- El `Modo Comando` sirve para usar comandos en el JN"
   ]
  },
  {
   "cell_type": "markdown",
   "id": "68739c60",
   "metadata": {},
   "source": [
    "Esto es una Celda `Markdown`"
   ]
  },
  {
   "cell_type": "code",
   "execution_count": 17,
   "id": "aa70ea45",
   "metadata": {},
   "outputs": [],
   "source": [
    "# Esto es una celda de codigo\n",
    "# Y yo soy un comentario"
   ]
  },
  {
   "cell_type": "markdown",
   "id": "a215a07a",
   "metadata": {},
   "source": [
    "Escribamos algo de codigo para recordar"
   ]
  },
  {
   "cell_type": "code",
   "execution_count": 18,
   "id": "4d74d8d0",
   "metadata": {},
   "outputs": [
    {
     "data": {
      "text/plain": [
       "9"
      ]
     },
     "execution_count": 18,
     "metadata": {},
     "output_type": "execute_result"
    }
   ],
   "source": [
    "var_1 = 4\n",
    "var_2 = 5\n",
    "var_1 + var_2"
   ]
  },
  {
   "cell_type": "code",
   "execution_count": 19,
   "id": "262851ba",
   "metadata": {},
   "outputs": [
    {
     "name": "stdout",
     "output_type": "stream",
     "text": [
      "9\n"
     ]
    }
   ],
   "source": [
    "print(var_1 + var_2)"
   ]
  },
  {
   "cell_type": "code",
   "execution_count": 20,
   "id": "3c602d94",
   "metadata": {},
   "outputs": [
    {
     "name": "stdout",
     "output_type": "stream",
     "text": [
      "4,5\n"
     ]
    }
   ],
   "source": [
    "print(str(var_1) + ',' +  str(var_2))"
   ]
  },
  {
   "cell_type": "code",
   "execution_count": 21,
   "id": "4fe32f89",
   "metadata": {},
   "outputs": [
    {
     "name": "stdout",
     "output_type": "stream",
     "text": [
      "9\n"
     ]
    }
   ],
   "source": [
    "print(var_1 + var_2)"
   ]
  },
  {
   "cell_type": "code",
   "execution_count": 22,
   "id": "659b1e7d",
   "metadata": {},
   "outputs": [
    {
     "data": {
      "text/plain": [
       "15"
      ]
     },
     "execution_count": 22,
     "metadata": {},
     "output_type": "execute_result"
    }
   ],
   "source": [
    "var_1 = 10\n",
    "var_1 + var_2"
   ]
  }
 ],
 "metadata": {
  "kernelspec": {
   "display_name": ".venv",
   "language": "python",
   "name": "python3"
  },
  "language_info": {
   "codemirror_mode": {
    "name": "ipython",
    "version": 3
   },
   "file_extension": ".py",
   "mimetype": "text/x-python",
   "name": "python",
   "nbconvert_exporter": "python",
   "pygments_lexer": "ipython3",
   "version": "3.10.11"
  }
 },
 "nbformat": 4,
 "nbformat_minor": 5
}
