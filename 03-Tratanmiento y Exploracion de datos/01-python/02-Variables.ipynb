{
 "cells": [
  {
   "cell_type": "markdown",
   "id": "77ada24a",
   "metadata": {},
   "source": [
    "## Ejemplo 2.- Variables \n",
    "\n",
    "### 1 Objetivo\n",
    "\n",
    "    - Es la sintaxis de la asignacion de variables en python\n",
    "\n",
    "    - Y aprender la convencion de nombramiento de variables"
   ]
  },
  {
   "cell_type": "markdown",
   "id": "aee482bd",
   "metadata": {},
   "source": [
    "### 2.- Desarrollo \n",
    "\n",
    "Los siguientes nombres son nombres de variables \n",
    "\n",
    "- var_1\n",
    "- variable_2\n",
    "- variable_dos\n",
    "- variable_nueva_tres\n",
    "- esta_es_una_variable_nueva"
   ]
  },
  {
   "cell_type": "markdown",
   "id": "064e2fbb",
   "metadata": {},
   "source": [
    "Los siguientes son variables invalidos para una variable en python.\n",
    "\n",
    "- 1_2\n",
    "- 1_variable\n",
    "- variableDos\n",
    "- EstaEsUnaVariable\n",
    "- Soy una variable"
   ]
  },
  {
   "cell_type": "markdown",
   "id": "80feb85b",
   "metadata": {},
   "source": [
    "Asignemos una cuantas variables"
   ]
  },
  {
   "cell_type": "code",
   "execution_count": 10,
   "id": "64d8ff00",
   "metadata": {},
   "outputs": [],
   "source": [
    "var_1=3\n",
    "var_2=6\n",
    "variable_3=10\n",
    "variable_nueva4=20"
   ]
  },
  {
   "cell_type": "markdown",
   "id": "5c17d01c",
   "metadata": {},
   "source": [
    "Podemos acceder a su contenido con tan solo escribir el nombre de la variable en una celda y correrla"
   ]
  },
  {
   "cell_type": "code",
   "execution_count": 11,
   "id": "b983de17",
   "metadata": {},
   "outputs": [
    {
     "data": {
      "text/plain": [
       "3"
      ]
     },
     "execution_count": 11,
     "metadata": {},
     "output_type": "execute_result"
    }
   ],
   "source": [
    "var_1"
   ]
  },
  {
   "cell_type": "code",
   "execution_count": 12,
   "id": "2f79d930",
   "metadata": {},
   "outputs": [
    {
     "data": {
      "text/plain": [
       "20"
      ]
     },
     "execution_count": 12,
     "metadata": {},
     "output_type": "execute_result"
    }
   ],
   "source": [
    "variable_nueva4"
   ]
  },
  {
   "cell_type": "markdown",
   "id": "31e34089",
   "metadata": {},
   "source": [
    "Se intento llamar una variable que no existe JN va a lanzar un error"
   ]
  },
  {
   "cell_type": "code",
   "execution_count": 9,
   "id": "66214182",
   "metadata": {},
   "outputs": [
    {
     "ename": "NameError",
     "evalue": "name 'var_5' is not defined",
     "output_type": "error",
     "traceback": [
      "\u001b[1;31m---------------------------------------------------------------------------\u001b[0m",
      "\u001b[1;31mNameError\u001b[0m                                 Traceback (most recent call last)",
      "Cell \u001b[1;32mIn[9], line 1\u001b[0m\n\u001b[1;32m----> 1\u001b[0m \u001b[43mvar_5\u001b[49m\n",
      "\u001b[1;31mNameError\u001b[0m: name 'var_5' is not defined"
     ]
    }
   ],
   "source": [
    "var_5"
   ]
  },
  {
   "cell_type": "markdown",
   "id": "7a749050",
   "metadata": {},
   "source": [
    "De igual manera si se escribe una asignacion pero no se corre la celda esa variable no estara disponible para el notebook mas adelante"
   ]
  },
  {
   "cell_type": "code",
   "execution_count": null,
   "id": "d85dbc84",
   "metadata": {},
   "outputs": [],
   "source": [
    "var_2=66"
   ]
  },
  {
   "cell_type": "code",
   "execution_count": null,
   "id": "10e322de",
   "metadata": {},
   "outputs": [],
   "source": [
    "var_2"
   ]
  },
  {
   "cell_type": "markdown",
   "id": "84b2271c",
   "metadata": {},
   "source": [
    "## Reto 1: Variables\n",
    "\n",
    "### 1. Objetivos:\n",
    "\n",
    "    -Practicar convencion de nombramiento y asignacion de varibles\n",
    "\n",
    "### 2. Desarrollo\n",
    "\n",
    "    -Realziar la siguiente practica"
   ]
  },
  {
   "cell_type": "code",
   "execution_count": 14,
   "id": "a3ad2aa3",
   "metadata": {},
   "outputs": [],
   "source": [
    "# Asigna el numero 12345 a una variable llamada locochona\n",
    "\n",
    "locochona=12345\n",
    "\n",
    "# Asigna el numero 14.567 a una variable var decimal\n",
    "var_decimal=14.567\n",
    "\n",
    "# Asigna un numero cualquiera a una variable que tenga cinco palabras en su nombre\n",
    "variable_con_cinco_palabras=42\n",
    "\n",
    "# Asigna un numero a una variable que incluya palabras y numeros en su nombre\n",
    "variable_1y2=100\n"
   ]
  }
 ],
 "metadata": {
  "kernelspec": {
   "display_name": ".venv",
   "language": "python",
   "name": "python3"
  },
  "language_info": {
   "codemirror_mode": {
    "name": "ipython",
    "version": 3
   },
   "file_extension": ".py",
   "mimetype": "text/x-python",
   "name": "python",
   "nbconvert_exporter": "python",
   "pygments_lexer": "ipython3",
   "version": "3.10.11"
  }
 },
 "nbformat": 4,
 "nbformat_minor": 5
}
